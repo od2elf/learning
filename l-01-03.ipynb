{
 "cells": [
  {
   "cell_type": "code",
   "execution_count": 25,
   "metadata": {
    "collapsed": false
   },
   "outputs": [
    {
     "name": "stdout",
     "output_type": "stream",
     "text": [
      "[0, 0, 1, 1, 2, 3, 3, 3, 4, 4, 4, 5, 5, 5, 6, 6, 6, 6, 6, 6, 7, 7, 8, 8, 8, 8, 9, 9, 12, 17, 23, 23, 24, 28, 32, 34, 34, 35, 35, 37, 42, 45, 53, 56, 59, 65, 85, 89]\n"
     ]
    }
   ],
   "source": [
    "x=[1,6,1,6,8,9,0,4,6,8,9,4,3,6,8,0,12,8,23,7,6,34,45,3,34,5,56,3,2,5,4,32,42,53,35,24,65,7,89,37,35,5,17,28,59,6,85,23]\n",
    "\n",
    "def qsort(myx):\n",
    "    x=[]\n",
    "    y=[]\n",
    "    z=[]\n",
    "    for i in myx:\n",
    "        if i<myx[0]: x.append(i)\n",
    "        elif i==myx[0]: y.append(i)\n",
    "        else: z.append(i)\n",
    "    if len(x)>1: x=qsort(x)\n",
    "    if len(z)>1: z=qsort(z)\n",
    "    return x+y+z\n",
    "\n",
    "print qsort(x)"
   ]
  },
  {
   "cell_type": "code",
   "execution_count": 33,
   "metadata": {
    "collapsed": false
   },
   "outputs": [
    {
     "name": "stdout",
     "output_type": "stream",
     "text": [
      "[0, 0, 1, 1, 2, 3, 3, 3, 4, 4, 4, 5, 5, 5, 6, 6, 6, 6, 6, 6, 7, 7, 8, 8, 8, 8, 9, 9, 12, 17, 23, 23, 24, 28, 32, 34, 34, 35, 35, 37, 42, 45, 53, 56, 59, 65, 85, 89]\n"
     ]
    }
   ],
   "source": [
    "quicksort = lambda seq: [] if not seq else quicksort(filter(lambda n: n<=seq[0], seq[1:]))+[seq[0]]+quicksort(filter(lambda n: n>seq[0], seq[1:]))\n",
    "print quicksort(x)"
   ]
  },
  {
   "cell_type": "code",
   "execution_count": null,
   "metadata": {
    "collapsed": true
   },
   "outputs": [],
   "source": []
  }
 ],
 "metadata": {
  "kernelspec": {
   "display_name": "Python 2",
   "language": "python",
   "name": "python2"
  },
  "language_info": {
   "codemirror_mode": {
    "name": "ipython",
    "version": 2
   },
   "file_extension": ".py",
   "mimetype": "text/x-python",
   "name": "python",
   "nbconvert_exporter": "python",
   "pygments_lexer": "ipython2",
   "version": "2.7.12"
  }
 },
 "nbformat": 4,
 "nbformat_minor": 1
}
