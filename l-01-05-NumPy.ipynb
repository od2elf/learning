{
 "cells": [
  {
   "cell_type": "code",
   "execution_count": 37,
   "metadata": {
    "collapsed": false
   },
   "outputs": [
    {
     "name": "stdout",
     "output_type": "stream",
     "text": [
      "[2, 3.0, 4.0]\n",
      "[2, 3.5, 5.0]\n",
      "([2, 3.0, 4.0], 1.0)\n"
     ]
    }
   ],
   "source": [
    "def myfunc (st, en, x=50, endpoint=True, retstep=False):\n",
    "    z=[]\n",
    "    z.append(st)\n",
    "    x1=x-1\n",
    "    if endpoint: x1=x\n",
    "    up=(en-st)/(float(x1))\n",
    "    for i in range(1,x): z.append(z[i-1]+up)\n",
    "    if retstep: z=(z,up)\n",
    "    return z\n",
    "    \n",
    "print myfunc(2,5,3)\n",
    "print myfunc(2,5,3,False)\n",
    "print myfunc(2,5,3,retstep=True)"
   ]
  },
  {
   "cell_type": "code",
   "execution_count": 35,
   "metadata": {
    "collapsed": false
   },
   "outputs": [
    {
     "name": "stdout",
     "output_type": "stream",
     "text": [
      "([2.0, 3.0, 4.0], 0.0)\n",
      "([2.0, 3.5, 5.0], 0.0)\n",
      "([2.0, 3.0, 4.0], 1.0)\n"
     ]
    }
   ],
   "source": [
    "V = lambda st, en, x=50, endpoint=True, retstep=False: ([st+i*(en-st)/float(x-1+int(endpoint)) for i in range(0,x)],int(retstep)*(en-st)/float(x-1+int(endpoint)))\n",
    "\n",
    "print V(2,5,3)\n",
    "print V(2,5,3,False)\n",
    "print V(2,5,3,retstep=True)"
   ]
  },
  {
   "cell_type": "code",
   "execution_count": 38,
   "metadata": {
    "collapsed": false
   },
   "outputs": [
    {
     "name": "stdout",
     "output_type": "stream",
     "text": [
      "The slowest run took 7.47 times longer than the fastest. This could mean that an intermediate result is being cached.\n",
      "1000000 loops, best of 3: 1.19 µs per loop\n"
     ]
    }
   ],
   "source": [
    "from numpy import *\n",
    "\n",
    "%timeit a = array( [2,3,4] )"
   ]
  },
  {
   "cell_type": "code",
   "execution_count": 40,
   "metadata": {
    "collapsed": false
   },
   "outputs": [
    {
     "name": "stdout",
     "output_type": "stream",
     "text": [
      "The slowest run took 22.53 times longer than the fastest. This could mean that an intermediate result is being cached.\n",
      "1000000 loops, best of 3: 495 ns per loop\n",
      "[[ 0.  0.  0.  0.]\n",
      " [ 0.  0.  0.  0.]\n",
      " [ 0.  0.  0.  0.]]\n"
     ]
    }
   ],
   "source": [
    " %timeit a = zeros( (3,4) )\n",
    "a = zeros( (3,4) )\n",
    "print a"
   ]
  },
  {
   "cell_type": "code",
   "execution_count": 47,
   "metadata": {
    "collapsed": false
   },
   "outputs": [
    {
     "name": "stdout",
     "output_type": "stream",
     "text": [
      "The slowest run took 18.23 times longer than the fastest. This could mean that an intermediate result is being cached.\n",
      "1000000 loops, best of 3: 660 ns per loop\n",
      "[[20 30]\n",
      " [40 50]]\n",
      "[[1 2]\n",
      " [3 4]]\n",
      "[[19 28]\n",
      " [37 46]]\n"
     ]
    }
   ],
   "source": [
    "a = array( [[20,30],[40,50]] )\n",
    "b = array( [[1,2],[3,4]] )\n",
    "c = a-b\n",
    "%timeit c=a-b\n",
    "print a\n",
    "print b\n",
    "print c"
   ]
  },
  {
   "cell_type": "code",
   "execution_count": 43,
   "metadata": {
    "collapsed": false
   },
   "outputs": [
    {
     "name": "stdout",
     "output_type": "stream",
     "text": [
      "[[1 0]\n",
      " [0 1]]\n",
      "[[2 3]\n",
      " [4 5]]\n",
      "[[2 0]\n",
      " [0 5]]\n",
      "The slowest run took 22.14 times longer than the fastest. This could mean that an intermediate result is being cached.\n",
      "1000000 loops, best of 3: 685 ns per loop\n"
     ]
    }
   ],
   "source": [
    "a = array([[1,0],[0,1]])\n",
    "b = array([[2,3],[4,5]])\n",
    "c = a*b\n",
    "print a\n",
    "print b\n",
    "print c\n",
    "%timeit c=a*b"
   ]
  },
  {
   "cell_type": "code",
   "execution_count": 55,
   "metadata": {
    "collapsed": false
   },
   "outputs": [
    {
     "name": "stdout",
     "output_type": "stream",
     "text": [
      "[[0 1]\n",
      " [0 1]]\n",
      "[[2 3]\n",
      " [4 5]]\n",
      "[[4 5]\n",
      " [4 5]]\n",
      "[[4 5]\n",
      " [4 5]]\n",
      "The slowest run took 9.55 times longer than the fastest. This could mean that an intermediate result is being cached.\n",
      "1000000 loops, best of 3: 1.12 µs per loop\n"
     ]
    }
   ],
   "source": [
    "a = array([[0,1],[0,1]])\n",
    "b = array([[2,3],[4,5]])\n",
    "c = dot(a,b)\n",
    "print a\n",
    "print b\n",
    "print c\n",
    "print dot(a,b)\n",
    "%timeit c = dot(a,b)"
   ]
  },
  {
   "cell_type": "code",
   "execution_count": 59,
   "metadata": {
    "collapsed": false
   },
   "outputs": [
    {
     "name": "stdout",
     "output_type": "stream",
     "text": [
      "The slowest run took 12.21 times longer than the fastest. This could mean that an intermediate result is being cached.\n",
      "1000000 loops, best of 3: 1.28 µs per loop\n",
      "The slowest run took 8.90 times longer than the fastest. This could mean that an intermediate result is being cached.\n",
      "100000 loops, best of 3: 2.46 µs per loop\n",
      "[[ 0.6843956   0.49940657  0.91365148]\n",
      " [ 0.04384684  0.7381255   0.34952776]]\n",
      "3.22895374784\n",
      "[ 0.49940657  0.04384684]\n",
      "[ 0.04384684  0.49940657  0.34952776]\n"
     ]
    }
   ],
   "source": [
    "%timeit a = random.random((2,3))\n",
    "a = random.random((2,3))\n",
    "%timeit a.sum()\n",
    "a.sum()\n",
    "print a\n",
    "print a.sum()\n",
    "print a.min(axis=1)\n",
    "print a.min(axis=0)"
   ]
  },
  {
   "cell_type": "code",
   "execution_count": null,
   "metadata": {
    "collapsed": true
   },
   "outputs": [],
   "source": []
  }
 ],
 "metadata": {
  "kernelspec": {
   "display_name": "Python 2",
   "language": "python",
   "name": "python2"
  },
  "language_info": {
   "codemirror_mode": {
    "name": "ipython",
    "version": 2
   },
   "file_extension": ".py",
   "mimetype": "text/x-python",
   "name": "python",
   "nbconvert_exporter": "python",
   "pygments_lexer": "ipython2",
   "version": "2.7.12"
  }
 },
 "nbformat": 4,
 "nbformat_minor": 1
}
